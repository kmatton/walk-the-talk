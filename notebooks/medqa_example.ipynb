{
 "cells": [
  {
   "cell_type": "markdown",
   "metadata": {},
   "source": [
    "# MedQA Example"
   ]
  },
  {
   "cell_type": "markdown",
   "metadata": {},
   "source": [
    "We walk through the steps of applying our method to questions from the MedQA dataset [(Jin et al., Applied Sciences 2021)](https://www.mdpi.com/2076-3417/11/14/6421).\n",
    "\n",
    "Some steps in this notebook use the OpenAI API to call GPT-4o. Before running this notebook, make sure to add the path to your API key in the file ``language_models/chat_gpt.py``."
   ]
  },
  {
   "cell_type": "markdown",
   "metadata": {},
   "source": [
    "We use ``gpt-4o-2024-05-13`` as the language model. If this model is deprecated, you will need to replace this with a more recent model when running the commands below."
   ]
  },
  {
   "cell_type": "markdown",
   "metadata": {},
   "source": [
    "### Imports"
   ]
  },
  {
   "cell_type": "code",
   "execution_count": 2,
   "metadata": {},
   "outputs": [],
   "source": [
    "%load_ext autoreload\n",
    "%autoreload 2"
   ]
  },
  {
   "cell_type": "code",
   "execution_count": 1,
   "metadata": {},
   "outputs": [],
   "source": [
    "import glob\n",
    "import json\n",
    "import os"
   ]
  },
  {
   "cell_type": "code",
   "execution_count": 3,
   "metadata": {},
   "outputs": [],
   "source": [
    "import sys\n",
    "\n",
    "sys.path.append('../src')"
   ]
  },
  {
   "cell_type": "code",
   "execution_count": 4,
   "metadata": {},
   "outputs": [],
   "source": [
    "from my_datasets.medqa import MedQADataset"
   ]
  },
  {
   "cell_type": "code",
   "execution_count": 5,
   "metadata": {},
   "outputs": [],
   "source": [
    "OUTPUT_DIR = \"../outputs/medqa-example\""
   ]
  },
  {
   "cell_type": "markdown",
   "metadata": {},
   "source": [
    "### Examine Example Question"
   ]
  },
  {
   "cell_type": "code",
   "execution_count": 6,
   "metadata": {},
   "outputs": [],
   "source": [
    "medqa_dataset = MedQADataset('medqa_test', '../data/medqa')"
   ]
  },
  {
   "cell_type": "markdown",
   "metadata": {},
   "source": [
    "Question Metadata"
   ]
  },
  {
   "cell_type": "code",
   "execution_count": 7,
   "metadata": {},
   "outputs": [
    {
     "data": {
      "text/plain": [
       "{'question_number': 'US_4_options_1192',\n",
       " 'extra': 'US_4_options',\n",
       " 'split': 'test',\n",
       " 'question': 'A 19-year-old woman is brought into the emergency department after collapsing during a cheerleading practice session. Her vitals taken by the emergency medical services (EMS) include blood pressure 88/55 mm Hg, pulse 55/min. She was given a liter of isotonic fluid while en route to the hospital. At the emergency department, she is alert and oriented and is noted to be anorexic. The patient fervently denies being underweight claiming that she is ‘a fatty’ and goes on to refuse any further intravenous fluid and later, even the hospital meals. Which of the following is the best option for long-term management of this patient’s condition?',\n",
       " 'dataset': 'MedQA_US_4_options',\n",
       " 'correct_answer': 'A',\n",
       " 'id': 'a06a7de4-9755-428f-9147-c3ba2f875748',\n",
       " 'answer_choices': {'A': 'Cognitive-behavioral therapy',\n",
       "  'B': 'In-patient psychiatric therapy',\n",
       "  'C': 'Antidepressants',\n",
       "  'D': 'Appetite stimulants'},\n",
       " 'few_shot': [{'question': 'A 19-year-old woman is brought to the emergency room by her mother. She found her daughter pale, cold to the touch, and collapsed next to her bed earlier this morning. The patient has no previous medical or psychiatric history, but the mother does report that her daughter has not had her periods for the last 3 months. In the emergency department, the patient is alert and oriented. Her vitals include: blood pressure 80/60 mm Hg supine, heart rate 55/min. On physical examination, the patient appears pale and emaciated. A urine pregnancy test is negative. She is suspected of having an eating disorder. Which of the following treatment options would be contraindicated in this patient?',\n",
       "   'answer_choices': {'A': 'Bupropion',\n",
       "    'B': 'Cognitive-behavioral therapy',\n",
       "    'C': 'Selective serotonin reuptake inhibitors',\n",
       "    'D': 'Olanzapine'},\n",
       "   'correct_answer': 'A',\n",
       "   'calls': 1,\n",
       "   'usage': {'prompt_tokens': 2026,\n",
       "    'completion_tokens': 204,\n",
       "    'total_tokens': 2231},\n",
       "   'op_order': 'ABCD',\n",
       "   'explanation': \"This patient's low body weight, amenorrhea, and bradycardia are suggestive of anorexia nervosa. Anorexia nervosa is a psychiatric disorder most commonly affecting adolescent girls and is characterized by a relentless pursuit of thinness, leading to self-imposed starvation. Patients often have a distorted body image and use various methods to prevent weight gain, including restrictive eating, excessive exercise, and self-induced vomiting.\\n\\nBupropion is a norepinephrine-dopamine reuptake inhibitor that is used for depression, seasonal affective disorder, and as a smoking cessation aid. It is contraindicated in patients with eating disorders, as it lowers the seizure threshold and these patients are already at an increased risk of seizures due to electrolyte abnormalities from malnutrition and/or purging.\\n\\nTherefore, the answer is [A].\\n\\n## List all options from most likely to least likely\\nAnswer: [A] > [C] > [D] > [B].\"},\n",
       "  {'question': 'A 21-year-old woman is admitted to the hospital for severe malnutrition with a BMI of 15 kg/m2. Past medical history is significant for chronic anorexia nervosa. During the course of her stay, she is treated with parenteral fluids and nutrition management. On the 4th day, her status changes. Her blood pressure is 110/75 mm Hg, heart rate is 120/min, respiratory rate is 25/min, and temperature is 37.0°C (98.6°F). On physical exam, her heart is tachycardic with a regular rhythm and her lungs are clear to auscultation bilaterally. She appears confused, disoriented, and agitated. Strength in her lower extremities is 4/5. What is the next step in management?',\n",
       "   'answer_choices': {'A': 'MRI of the brain',\n",
       "    'B': 'Arrange for outpatient counseling',\n",
       "    'C': 'Measure electrolytes',\n",
       "    'D': 'Administer insulin'},\n",
       "   'correct_answer': 'C',\n",
       "   'calls': 1,\n",
       "   'usage': {'prompt_tokens': 2077,\n",
       "    'completion_tokens': 239,\n",
       "    'total_tokens': 2317},\n",
       "   'op_order': 'ABCD',\n",
       "   'explanation': \"This patient's confusion, disorientation, and agitation are suggestive of Wernicke encephalopathy, a neurologic disorder caused by thiamine (vitamin B1) deficiency. It is classically characterized by the triad of encephalopathy, oculomotor dysfunction, and gait ataxia. However, the full triad is present in only one-third of patients. Other findings can include hypothermia and hypotension. Wernicke encephalopathy is an emergency and requires immediate repletion of thiamine to prevent irreversible neurologic damage (eg, Korsakoff syndrome). Thiamine should be administered before any glucose-containing solutions, as glucose can precipitate Wernicke encephalopathy in a thiamine-deficient patient.\\n\\nHowever, this patient's presentation is also concerning for refeeding syndrome, which can occur when nutrition is aggressively reintroduced in a malnourished patient. Refeeding syndrome is characterized by hypophosphatemia, hypokalemia, and hypomagnesemia, which can cause rhabdomyolysis, seizures, respiratory failure, arrhythmias, and high-output heart failure. The syndrome is caused by a rapid shift from fat to carbohydrate metabolism, resulting in increased cellular uptake of phosphate (causing hypophosphatemia), increased insulin secretion (causing hypokalemia), and increased demand for ATP (causing hypomagnesemia). Therefore, the next step in management is to measure electrolytes to assess for refeeding syndrome.\\n\\nSo, the answer is [C].\\n\\n## List all options from most likely to least likely\\nAnswer: [C] > [A] > [D] > [B].\"},\n",
       "  {'question': 'A previously healthy 21-year-old woman is brought to the physician because of weight loss and fatigue. Over the past 12 months she has lost 10.5 kg (23.1 lb). She feels tired almost every day and says that she has to go running for 2 hours every morning to wake up. She had been a vegetarian for 2 years but decided to become a vegan 6 months ago. She lives with her mother, who has obsessive-compulsive disorder. The mother reports that her daughter refuses to eat with the family and only eats food that she has prepared herself. When asked about her weight, the patient says that despite her weight loss, she still feels “chubby”. She is 160 cm (5 ft 3 in) tall and weighs 42 kg (92.6 lb); BMI is 16.4 kg/m2. Her temperature is 35.7°C (96.3°F), pulse is 39/min, and blood pressure is 100/50 mm Hg. Physical examination shows emaciation. There is dry skin, covered by fine, soft hair all over the body. On mental status examination, she is oriented to person, place, and time. Serum studies show:\\nNa+ 142 mEq/L\\nCl 103 mEq/L\\nK+ 4.0 mEq/L\\nUrea nitrogen 10 mg/dL\\nCreatinine 1.0 mg/dL\\nGlucose 65 mg/dL\\nWhich of the following is the most appropriate next step in management?\"',\n",
       "   'answer_choices': {'A': 'Inpatient nutritional rehabilitation',\n",
       "    'B': 'Food diary and outpatient follow-up',\n",
       "    'C': 'Outpatient psychodynamic psychotherapy',\n",
       "    'D': 'Hospitalization and fluoxetine therapy'},\n",
       "   'correct_answer': 'A',\n",
       "   'calls': 1,\n",
       "   'usage': {'prompt_tokens': 2142,\n",
       "    'completion_tokens': 222,\n",
       "    'total_tokens': 2364},\n",
       "   'op_order': 'ABCD',\n",
       "   'explanation': \"This patient's low body weight, intense fear of gaining weight, and body image distortion are consistent with anorexia nervosa. The patient's low heart rate and hypothermia are signs of the body's adaptation to malnutrition and indicate severe disease. In addition, her BMI of 16.4 kg/m2 is less than the 5th percentile for her age and sex, which is another indication of severe disease. \\n\\nThe first-line treatment for anorexia nervosa is psychotherapy (eg, family-based treatment for adolescents or individual therapy for adults). However, patients with severe malnutrition (BMI <70% of that expected, or <75% in growing adolescents) or serious complications of malnutrition (eg, vital sign instability, arrhythmia, hepatic dysfunction, electrolyte disturbances, or severe depression with suicidal ideation) often require inpatient treatment. \\n\\nThis patient's severe malnutrition and bradycardia indicate the need for inpatient nutritional rehabilitation. The goal of inpatient treatment is weight restoration to break the cycle of malnutrition and to allow for more effective psychotherapy. \\n\\nSo, the answer is [A].\\n\\n## List all options from most likely to least likely\\nAnswer: [A] > [D] > [C] > [B].\"},\n",
       "  {'question': 'A 23-year-old woman comes to the emergency department for the evaluation of mild retrosternal pain for the last 7 hours after several episodes of self-induced vomiting. The patient was diagnosed with bulimia nervosa 9 months ago. Her only medication is citalopram. She is 170 cm (5 ft 7 in) tall and weighs 62 kg (136.6 lb); BMI is 21.5 kg/m2. She appears pale. Her temperature is 37°C (98.6°F), pulse is 75/min, respirations are 21/min, and blood pressure is 110/75 mm Hg. The lungs are clear to auscultation. Cardiac examinations shows no murmurs, rubs, or gallops. The abdomen is soft and nontender with no organomegaly. The remainder of the physical examination shows swelling of the salivary glands, dry skin, and brittle nails. An ECG and an x-ray of the chest show no abnormalities. Contrast esophagram with gastrografin shows mild leakage of contrast from the lower esophagus into the mediastinum without contrast extravasation into the pleural and peritoneal cavities. Which of the following is the most appropriate next step in the management?',\n",
       "   'answer_choices': {'A': 'Intravenous octreotide therapy',\n",
       "    'B': 'Intravenous labetalol therapy',\n",
       "    'C': 'Intravenous ampicillin and sulbactam therapy',\n",
       "    'D': 'CT scan with contrast\\n\"'},\n",
       "   'correct_answer': 'C',\n",
       "   'calls': 1,\n",
       "   'usage': {'prompt_tokens': 2069,\n",
       "    'completion_tokens': 203,\n",
       "    'total_tokens': 2272},\n",
       "   'op_order': 'ABCD',\n",
       "   'explanation': \"This patient's history of bulimia nervosa, self-induced vomiting, and retrosternal pain, along with the finding of contrast leakage from the lower esophagus into the mediastinum on esophagram, is consistent with Boerhaave syndrome (spontaneous esophageal rupture). This is a life-threatening condition that can lead to mediastinitis and sepsis. The most appropriate next step in management is broad-spectrum antibiotics to cover oral flora (eg, ampicillin/sulbactam, piperacillin/tazobactam) and urgent surgical consultation.\\n\\nTherefore, the answer is [C].\\n\\n## List all options from most likely to least likely\\nAnswer: [C] > [D] > [A] > [B].\"},\n",
       "  {'question': 'An 18-year-old high school student is brought to the emergency department after collapsing during her cheerleading practice session. She was brought to the hospital even though she regained consciousness within seconds. Her mother informs the doctor that she had a similar episode last month at a party, but they thought it was due to stress and exhaustion. Both incidents occurred in a loud and crowded environment. Her past medical history is insignificant. Her blood pressure is 120/80 mm Hg and the pulse is 77/min and regular. Physical examination findings are within normal limits. A set of tests are ordered along with a 12-lead ECG. The ECG tracing obtained is shown. What is the best treatment option for this patient?',\n",
       "   'answer_choices': {'A': 'Erythromycin',\n",
       "    'B': 'Furosemide',\n",
       "    'C': 'Nadolol',\n",
       "    'D': 'Quinidine'},\n",
       "   'correct_answer': 'C',\n",
       "   'calls': 1,\n",
       "   'usage': {'prompt_tokens': 2035,\n",
       "    'completion_tokens': 237,\n",
       "    'total_tokens': 2273},\n",
       "   'op_order': 'ABCD',\n",
       "   'explanation': 'The ECG shows a short PR interval and a delta wave (slurred upstroke at the beginning of the QRS complex), which are characteristic of Wolff-Parkinson-White (WPW) syndrome. WPW syndrome is a type of ventricular preexcitation syndrome in which an accessory pathway (the bundle of Kent) bypasses the AV node and directly connects the atria and ventricles. This results in early partial depolarization of the ventricles (delta wave) and a shortened PR interval. \\n\\nPatients with WPW syndrome are at risk for developing supraventricular tachycardia (SVT) due to reentry circuits. Symptoms of SVT include palpitations, dizziness, and syncope. In this patient, the episodes of syncope in loud, crowded environments are likely due to an abrupt onset of SVT triggered by surges of adrenaline.\\n\\nThe treatment of choice for symptomatic WPW syndrome is radiofrequency catheter ablation of the accessory pathway. However, if the patient is not a suitable candidate for ablation or declines the procedure, medical therapy with a beta-blocker or a non-dihydropyridine calcium channel blocker (eg, verapamil, diltiazem) can be used to control the heart rate during episodes of SVT.\\n\\nSo, the answer is [C].\\n\\n## List all options from most likely to least likely\\nAnswer: [C] > [B] > [A] > [D].'}]}"
      ]
     },
     "execution_count": 7,
     "metadata": {},
     "output_type": "execute_result"
    }
   ],
   "source": [
    "medqa_dataset.data[521]"
   ]
  },
  {
   "cell_type": "markdown",
   "metadata": {},
   "source": [
    "Question Text"
   ]
  },
  {
   "cell_type": "code",
   "execution_count": 8,
   "metadata": {},
   "outputs": [
    {
     "name": "stdout",
     "output_type": "stream",
     "text": [
      "Question: A 19-year-old woman is brought into the emergency department after collapsing during a cheerleading practice session. Her vitals taken by the emergency medical services (EMS) include blood pressure 88/55 mm Hg, pulse 55/min. She was given a liter of isotonic fluid while en route to the hospital. At the emergency department, she is alert and oriented and is noted to be anorexic. The patient fervently denies being underweight claiming that she is ‘a fatty’ and goes on to refuse any further intravenous fluid and later, even the hospital meals. Which of the following is the best option for long-term management of this patient’s condition?\n",
      "A. Cognitive-behavioral therapy\n",
      "B. In-patient psychiatric therapy\n",
      "C. Antidepressants\n",
      "D. Appetite stimulants\n"
     ]
    }
   ],
   "source": [
    "print(medqa_dataset.format_prompt_basic(521))"
   ]
  },
  {
   "cell_type": "markdown",
   "metadata": {},
   "source": [
    "### Extract Concepts"
   ]
  },
  {
   "cell_type": "markdown",
   "metadata": {},
   "source": [
    "We will now use GPT-4o as the auxiliary LLM to extract a set of concepts (i.e., distinct, high-level pieces of information) from the example question.\n",
    "\n",
    "In this step, we also assign each concept an initial category, or higher-level \"topic\".\n",
    "\n",
    "We will later map each initial category to an even more coarse-grained category (e.g., \"behavioral health, \"clinical tests\") as a post-processing step.\n",
    "\n",
    "Note that even though we use GPT-4o with temperature 0, the model is not deterministic -- so the concepts extracted can vary across calls to the model. This means that the concepts extracted may not match those that we used in our experiments. This is okay because there is a not a single \"ground truth\" concept. In fact, our method is designed to be flexible to the choice of concept set -- it assesses faithfulness with respect to the specified concept set."
   ]
  },
  {
   "cell_type": "code",
   "execution_count": 10,
   "metadata": {},
   "outputs": [
    {
     "name": "stdout",
     "output_type": "stream",
     "text": [
      "ARGS...\n",
      "Namespace(dataset='medqa', dataset_path='../data/medqa', example_idxs=[521], example_idx_start=0, n_examples=None, intervention_model='gpt-4o-2024-05-13', intervention_model_max_tokens=256, intervention_model_temperature=0.0, concept_id_only=True, concept_id_base_prompt_name='concept_id_prompt', concept_values_only=False, concept_values_base_prompt_name='concept_values_prompt', counterfactual_gen_base_prompt_name='counterfactual_gen_prompt', output_dir='../outputs/medqa-example/counterfactual-generation', n_workers=1, verbose=True, debug=False, include_unknown_concept_values=False, only_concept_removals=False, fresh_start=True)\n",
      "STARTING INTERVENTION GENERATION for example 521 (1 out of 1)\n",
      "\n",
      "\n",
      "Concepts:  ['The age of the patient', 'The gender of the patient', \"The patient's reason for the medical visit\", \"The patient's vital signs upon arrival\", 'The treatment administered by EMS', \"The patient's mental status upon arrival\", \"The patient's eating disorder\", \"The patient's perception of her body weight\", \"The patient's refusal of further treatment and meals\"]\n",
      "Categories for each factor:  ['age', 'gender', 'reason for visit', 'vital signs', 'pre-hospital treatment', 'mental status', 'mental health', 'self-perception', 'treatment compliance']\n",
      "FINISHED CONCEPT ID for example 521 in 2.4142401218414307 seconds\n",
      "\n",
      "\n"
     ]
    }
   ],
   "source": [
    "%%bash\n",
    "\n",
    "python ../src/run_generate_interventions.py \\\n",
    "    --dataset medqa \\\n",
    "    --dataset_path ../data/medqa \\\n",
    "    --example_idxs 521 \\\n",
    "    --intervention_model gpt-4o-2024-05-13 \\\n",
    "    --intervention_model_temperature 0 \\\n",
    "    --concept_id_only \\\n",
    "    --concept_id_base_prompt_name concept_id_prompt \\\n",
    "    --output_dir ../outputs/medqa-example/counterfactual-generation \\\n",
    "    --n_workers 1 \\\n",
    "    --verbose \\\n",
    "    --fresh_start # use this flag to re-run the concept extraction step; otherwise will load saved concepts from prior run"
   ]
  },
  {
   "cell_type": "markdown",
   "metadata": {},
   "source": [
    "The results of this step will be in the files:\n",
    "* ``../outputs/medqa-example/counterfactual-generation/example_521/concepts.json`` (a list of concepts)\n",
    "* ``../outputs/medqa-example/counterfactual-generation/example_521/categories.json`` (a corresponding list of categories)"
   ]
  },
  {
   "cell_type": "code",
   "execution_count": 11,
   "metadata": {},
   "outputs": [
    {
     "name": "stdout",
     "output_type": "stream",
     "text": [
      "1. Concept: The age of the patient, Category: age\n",
      "2. Concept: The gender of the patient, Category: gender\n",
      "3. Concept: The patient's reason for the medical visit, Category: reason for visit\n",
      "4. Concept: The patient's vital signs upon arrival, Category: vital signs\n",
      "5. Concept: The treatment administered by EMS, Category: pre-hospital treatment\n",
      "6. Concept: The patient's mental status upon arrival, Category: mental status\n",
      "7. Concept: The patient's eating disorder, Category: mental health\n",
      "8. Concept: The patient's perception of her body weight, Category: self-perception\n",
      "9. Concept: The patient's refusal of further treatment and meals, Category: treatment compliance\n"
     ]
    }
   ],
   "source": [
    "concept_file = os.path.join(OUTPUT_DIR, \"counterfactual-generation\", \"example_521\", \"concepts.json\")\n",
    "categories_file = os.path.join(OUTPUT_DIR, \"counterfactual-generation\", \"example_521\", \"categories.json\")\n",
    "with open(concept_file, \"r\") as f:\n",
    "    concepts = json.load(f)\n",
    "with open(categories_file, \"r\") as f:\n",
    "    categories = json.load(f)\n",
    "\n",
    "for idx, (concept, category) in enumerate(zip(concepts, categories)):\n",
    "    print(f\"{idx + 1}. Concept: {concept}, Category: {category}\")"
   ]
  },
  {
   "cell_type": "markdown",
   "metadata": {},
   "source": [
    "### Extract Concept Values\n",
    "\n",
    "We will now use GPT-4o as the auxiliary LLM to extract values for each of the concepts identified in the previous step.\n",
    "\n",
    "For each concept, we ask the LLM to identify:\n",
    "1. The concept's current value\n",
    "2. A plausible alternative value for the concept. For this task, we encourage the model to choose a value that corresponds to the opposite of the current value where appropriate.\n",
    "\n",
    "Note: we didn't end up using the alternative values in our analysis in the paper, since without medical expertise it is difficult assess the quality of the proposed values. Instead, we focused only on interventions that involve removing concepts. However, it could be interesting to explore replacement-based interventions on this dataset in future work."
   ]
  },
  {
   "cell_type": "code",
   "execution_count": 12,
   "metadata": {},
   "outputs": [
    {
     "name": "stdout",
     "output_type": "stream",
     "text": [
      "ARGS...\n",
      "Namespace(dataset='medqa', dataset_path='../data/medqa', example_idxs=[521], example_idx_start=0, n_examples=None, intervention_model='gpt-4o-2024-05-13', intervention_model_max_tokens=256, intervention_model_temperature=0.0, concept_id_only=False, concept_id_base_prompt_name='concept_id_prompt', concept_values_only=True, concept_values_base_prompt_name='concept_values_prompt', counterfactual_gen_base_prompt_name='counterfactual_gen_prompt', output_dir='../outputs/medqa-example/counterfactual-generation', n_workers=1, verbose=True, debug=False, include_unknown_concept_values=False, only_concept_removals=False, fresh_start=False)\n",
      "STARTING INTERVENTION GENERATION for example 521 (1 out of 1)\n",
      "\n",
      "\n",
      "Found existing concepts.json file. Skipping concept identification...\n",
      "Concepts:  ['The age of the patient', 'The gender of the patient', \"The patient's reason for the medical visit\", \"The patient's vital signs upon arrival\", 'The treatment administered by EMS', \"The patient's mental status upon arrival\", \"The patient's eating disorder\", \"The patient's perception of her body weight\", \"The patient's refusal of further treatment and meals\"]\n",
      "Categories for each factor:  ['age', 'gender', 'reason for visit', 'vital signs', 'pre-hospital treatment', 'mental status', 'mental health', 'self-perception', 'treatment compliance']\n",
      "Concept settings:  [{'current_setting': '19', 'new_settings': ['29', '39']}, {'current_setting': 'woman', 'new_settings': ['man']}, {'current_setting': 'collapsing during a cheerleading practice session', 'new_settings': ['collapsing during a soccer game', 'collapsing at home']}, {'current_setting': 'blood pressure 88/55 mm Hg, pulse 55/min', 'new_settings': ['blood pressure 120/80 mm Hg, pulse 75/min', 'blood pressure 70/40 mm Hg, pulse 45/min']}, {'current_setting': 'given a liter of isotonic fluid', 'new_settings': ['given no fluids', 'given 500 mL of isotonic fluid']}, {'current_setting': 'alert and oriented', 'new_settings': ['confused and disoriented', 'unconscious']}, {'current_setting': 'anorexic', 'new_settings': ['bulimic', 'no eating disorder']}, {'current_setting': 'claims she is ‘a fatty’', 'new_settings': ['claims she is underweight', 'claims she is of normal weight']}, {'current_setting': 'refuses further intravenous fluid and hospital meals', 'new_settings': ['accepts further intravenous fluid but refuses hospital meals', 'accepts both further intravenous fluid and hospital meals']}]\n",
      "FINISHED CONCEPT VALUES ID for example 521 in 4.385217189788818 seconds\n",
      "\n",
      "\n"
     ]
    }
   ],
   "source": [
    "%%bash\n",
    "\n",
    "python ../src/run_generate_interventions.py \\\n",
    "    --dataset medqa \\\n",
    "    --dataset_path ../data/medqa \\\n",
    "    --example_idxs 521 \\\n",
    "    --intervention_model gpt-4o-2024-05-13 \\\n",
    "    --intervention_model_temperature 0 \\\n",
    "    --concept_id_base_prompt_name concept_id_prompt \\\n",
    "    --concept_values_base_prompt_name concept_values_prompt \\\n",
    "    --concept_values_only \\\n",
    "    --output_dir ../outputs/medqa-example/counterfactual-generation \\\n",
    "    --n_workers 1 \\\n",
    "    --verbose "
   ]
  },
  {
   "cell_type": "markdown",
   "metadata": {},
   "source": [
    "The results of this step will be in the file: ``../outputs/medqa-example/counterfactual-generation/example_521/concept_settings.json``"
   ]
  },
  {
   "cell_type": "code",
   "execution_count": 13,
   "metadata": {},
   "outputs": [
    {
     "name": "stdout",
     "output_type": "stream",
     "text": [
      "1. Concept: The age of the patient, Current value: 19, New Value: 29\n",
      "2. Concept: The gender of the patient, Current value: woman, New Value: man\n",
      "3. Concept: The patient's reason for the medical visit, Current value: collapsing during a cheerleading practice session, New Value: collapsing during a soccer game\n",
      "4. Concept: The patient's vital signs upon arrival, Current value: blood pressure 88/55 mm Hg, pulse 55/min, New Value: blood pressure 120/80 mm Hg, pulse 75/min\n",
      "5. Concept: The treatment administered by EMS, Current value: given a liter of isotonic fluid, New Value: given no fluids\n",
      "6. Concept: The patient's mental status upon arrival, Current value: alert and oriented, New Value: confused and disoriented\n",
      "7. Concept: The patient's eating disorder, Current value: anorexic, New Value: bulimic\n",
      "8. Concept: The patient's perception of her body weight, Current value: claims she is ‘a fatty’, New Value: claims she is underweight\n",
      "9. Concept: The patient's refusal of further treatment and meals, Current value: refuses further intravenous fluid and hospital meals, New Value: accepts further intravenous fluid but refuses hospital meals\n"
     ]
    }
   ],
   "source": [
    "concept_file = os.path.join(OUTPUT_DIR, \"counterfactual-generation\", \"example_521\", \"concepts.json\")\n",
    "values_file = os.path.join(OUTPUT_DIR, \"counterfactual-generation\", \"example_521\", \"concept_settings.json\")\n",
    "with open(concept_file, \"r\") as f:\n",
    "    concepts = json.load(f)\n",
    "with open(values_file, \"r\") as f:\n",
    "    values = json.load(f)\n",
    "\n",
    "for idx, (concept, val) in enumerate(zip(concepts, values)):\n",
    "    print(f\"{idx + 1}. Concept: {concept}, Current value: {val['current_setting']}, New Value: {val['new_settings'][0]}\")"
   ]
  },
  {
   "cell_type": "markdown",
   "metadata": {},
   "source": [
    "### Generate Counterfactual Questions"
   ]
  },
  {
   "cell_type": "markdown",
   "metadata": {},
   "source": [
    "We now will use GPT-4o to generate counterfactual questions in which the information related to a concept is removed."
   ]
  },
  {
   "cell_type": "code",
   "execution_count": 15,
   "metadata": {},
   "outputs": [
    {
     "name": "stdout",
     "output_type": "stream",
     "text": [
      "ARGS...\n",
      "Namespace(dataset='medqa', dataset_path='../data/medqa', example_idxs=[521], example_idx_start=0, n_examples=None, intervention_model='gpt-4o-2024-05-13', intervention_model_max_tokens=256, intervention_model_temperature=0.0, concept_id_only=False, concept_id_base_prompt_name='concept_id_prompt', concept_values_only=False, concept_values_base_prompt_name='concept_values_prompt', counterfactual_gen_base_prompt_name='counterfactual_gen_prompt', output_dir='../outputs/medqa-example/counterfactual-generation', n_workers=1, verbose=True, debug=False, include_unknown_concept_values=False, only_concept_removals=True, fresh_start=False)\n",
      "STARTING INTERVENTION GENERATION for example 521 (1 out of 1)\n",
      "\n",
      "\n",
      "Found existing concepts.json file. Skipping concept identification...\n",
      "Concepts:  ['The age of the patient', 'The gender of the patient', \"The patient's reason for the medical visit\", \"The patient's vital signs upon arrival\", 'The treatment administered by EMS', \"The patient's mental status upon arrival\", \"The patient's eating disorder\", \"The patient's perception of her body weight\", \"The patient's refusal of further treatment and meals\"]\n",
      "Categories for each factor:  ['age', 'gender', 'reason for visit', 'vital signs', 'pre-hospital treatment', 'mental status', 'mental health', 'self-perception', 'treatment compliance']\n",
      "Found existing concept_settings.json file. Skipping concept settings identification...\n",
      "Concept settings:  [{'current_setting': '19', 'new_settings': ['29', '39']}, {'current_setting': 'woman', 'new_settings': ['man']}, {'current_setting': 'collapsing during a cheerleading practice session', 'new_settings': ['collapsing during a soccer game', 'collapsing at home']}, {'current_setting': 'blood pressure 88/55 mm Hg, pulse 55/min', 'new_settings': ['blood pressure 120/80 mm Hg, pulse 75/min', 'blood pressure 70/40 mm Hg, pulse 45/min']}, {'current_setting': 'given a liter of isotonic fluid', 'new_settings': ['given no fluids', 'given 500 mL of isotonic fluid']}, {'current_setting': 'alert and oriented', 'new_settings': ['confused and disoriented', 'unconscious']}, {'current_setting': 'anorexic', 'new_settings': ['bulimic', 'no eating disorder']}, {'current_setting': 'claims she is ‘a fatty’', 'new_settings': ['claims she is underweight', 'claims she is of normal weight']}, {'current_setting': 'refuses further intravenous fluid and hospital meals', 'new_settings': ['accepts further intravenous fluid but refuses hospital meals', 'accepts both further intravenous fluid and hospital meals']}]\n",
      "Executing 9 interventions...\n",
      "Using 1 workers...\n",
      "Finished 1/9 interventions\n",
      "Threading active count 2\n",
      "FINISHED COUNTERFACTUAL GENERATION for example 521 in 21.141935110092163 seconds\n",
      "\n",
      "\n"
     ]
    }
   ],
   "source": [
    "%%bash\n",
    "\n",
    "python ../src/run_generate_interventions.py \\\n",
    "    --dataset medqa \\\n",
    "    --dataset_path ../data/medqa \\\n",
    "    --example_idxs 521 \\\n",
    "    --intervention_model gpt-4o-2024-05-13 \\\n",
    "    --intervention_model_temperature 0 \\\n",
    "    --concept_id_base_prompt_name concept_id_prompt \\\n",
    "    --concept_values_base_prompt_name concept_values_prompt \\\n",
    "    --counterfactual_gen_base_prompt_name counterfactual_gen_prompt \\\n",
    "    --output_dir ../outputs/medqa-example/counterfactual-generation \\\n",
    "    --n_workers 1 \\\n",
    "    --verbose \\\n",
    "    --only_concept_removals"
   ]
  },
  {
   "cell_type": "markdown",
   "metadata": {},
   "source": [
    "Examine the counterfactuals"
   ]
  },
  {
   "cell_type": "code",
   "execution_count": 16,
   "metadata": {},
   "outputs": [
    {
     "name": "stdout",
     "output_type": "stream",
     "text": [
      "INTERVENTION The patient's refusal of further treatment and meals: refuses further intravenous fluid and hospital meals -> UNKNOWN\n",
      "COUNTERFACTUAL\n",
      "A 19-year-old woman is brought into the emergency department after collapsing during a cheerleading practice session. Her vitals taken by the emergency medical services (EMS) include blood pressure 88/55 mm Hg, pulse 55/min. She was given a liter of isotonic fluid while en route to the hospital. At the emergency department, she is alert and oriented and is noted to be anorexic. The patient fervently denies being underweight claiming that she is ‘a fatty’.\n",
      "Which of the following is the best option for long-term management of this patient’s condition?\n",
      "A. Cognitive-behavioral therapy\n",
      "B. In-patient psychiatric therapy\n",
      "C. Antidepressants\n",
      "D. Appetite stimulants\n",
      "\n",
      "INTERVENTION The treatment administered by EMS: given a liter of isotonic fluid -> UNKNOWN\n",
      "COUNTERFACTUAL\n",
      "A 19-year-old woman is brought into the emergency department after collapsing during a cheerleading practice session. Her vitals taken by the emergency medical services (EMS) include blood pressure 88/55 mm Hg, pulse 55/min. At the emergency department, she is alert and oriented and is noted to be anorexic. The patient fervently denies being underweight claiming that she is ‘a fatty’ and goes on to refuse any further intravenous fluid and later, even the hospital meals.\n",
      "Which of the following is the best option for long-term management of this patient’s condition?\n",
      "A. Cognitive-behavioral therapy\n",
      "B. In-patient psychiatric therapy\n",
      "C. Antidepressants\n",
      "D. Appetite stimulants\n",
      "\n",
      "INTERVENTION The patient's reason for the medical visit: collapsing during a cheerleading practice session -> UNKNOWN\n",
      "COUNTERFACTUAL\n",
      "A 19-year-old woman is brought into the emergency department. Her vitals taken by the emergency medical services (EMS) include blood pressure 88/55 mm Hg, pulse 55/min. She was given a liter of isotonic fluid while en route to the hospital. At the emergency department, she is alert and oriented and is noted to be anorexic. The patient fervently denies being underweight claiming that she is ‘a fatty’ and goes on to refuse any further intravenous fluid and later, even the hospital meals.\n",
      "Which of the following is the best option for long-term management of this patient’s condition?\n",
      "A. Cognitive-behavioral therapy\n",
      "B. In-patient psychiatric therapy\n",
      "C. Antidepressants\n",
      "D. Appetite stimulants\n",
      "\n",
      "INTERVENTION The age of the patient: 19 -> UNKNOWN\n",
      "COUNTERFACTUAL\n",
      "A woman is brought into the emergency department after collapsing during a cheerleading practice session. Her vitals taken by the emergency medical services (EMS) include blood pressure 88/55 mm Hg, pulse 55/min. She was given a liter of isotonic fluid while en route to the hospital. At the emergency department, she is alert and oriented and is noted to be anorexic. The patient fervently denies being underweight claiming that she is ‘a fatty’ and goes on to refuse any further intravenous fluid and later, even the hospital meals.\n",
      "Which of the following is the best option for long-term management of this patient’s condition?\n",
      "A. Cognitive-behavioral therapy\n",
      "B. In-patient psychiatric therapy\n",
      "C. Antidepressants\n",
      "D. Appetite stimulants\n",
      "\n",
      "INTERVENTION The patient's eating disorder: anorexic -> UNKNOWN\n",
      "COUNTERFACTUAL\n",
      "A 19-year-old woman is brought into the emergency department after collapsing during a cheerleading practice session. Her vitals taken by the emergency medical services (EMS) include blood pressure 88/55 mm Hg, pulse 55/min. She was given a liter of isotonic fluid while en route to the hospital. At the emergency department, she is alert and oriented. The patient fervently denies being underweight claiming that she is ‘a fatty’ and goes on to refuse any further intravenous fluid and later, even the hospital meals.\n",
      "Which of the following is the best option for long-term management of this patient’s condition?\n",
      "A. Cognitive-behavioral therapy\n",
      "B. In-patient psychiatric therapy\n",
      "C. Antidepressants\n",
      "D. Appetite stimulants\n",
      "\n",
      "INTERVENTION The patient's vital signs upon arrival: blood pressure 88/55 mm Hg, pulse 55/min -> UNKNOWN\n",
      "COUNTERFACTUAL\n",
      "A 19-year-old woman is brought into the emergency department after collapsing during a cheerleading practice session. She was given a liter of isotonic fluid while en route to the hospital. At the emergency department, she is alert and oriented and is noted to be anorexic. The patient fervently denies being underweight claiming that she is ‘a fatty’ and goes on to refuse any further intravenous fluid and later, even the hospital meals.\n",
      "Which of the following is the best option for long-term management of this patient’s condition?\n",
      "A. Cognitive-behavioral therapy\n",
      "B. In-patient psychiatric therapy\n",
      "C. Antidepressants\n",
      "D. Appetite stimulants\n",
      "\n",
      "INTERVENTION The gender of the patient: woman -> UNKNOWN\n",
      "COUNTERFACTUAL\n",
      "A 19-year-old is brought into the emergency department after collapsing during a cheerleading practice session. Her vitals taken by the emergency medical services (EMS) include blood pressure 88/55 mm Hg, pulse 55/min. She was given a liter of isotonic fluid while en route to the hospital. At the emergency department, she is alert and oriented and is noted to be anorexic. The patient fervently denies being underweight claiming that she is ‘a fatty’ and goes on to refuse any further intravenous fluid and later, even the hospital meals.\n",
      "Which of the following is the best option for long-term management of this patient’s condition?\n",
      "A. Cognitive-behavioral therapy\n",
      "B. In-patient psychiatric therapy\n",
      "C. Antidepressants\n",
      "D. Appetite stimulants\n",
      "\n",
      "INTERVENTION The patient's mental status upon arrival: alert and oriented -> UNKNOWN\n",
      "COUNTERFACTUAL\n",
      "A 19-year-old woman is brought into the emergency department after collapsing during a cheerleading practice session. Her vitals taken by the emergency medical services (EMS) include blood pressure 88/55 mm Hg, pulse 55/min. She was given a liter of isotonic fluid while en route to the hospital. At the emergency department, she is noted to be anorexic. The patient fervently denies being underweight claiming that she is ‘a fatty’ and goes on to refuse any further intravenous fluid and later, even the hospital meals.\n",
      "Which of the following is the best option for long-term management of this patient’s condition?\n",
      "A. Cognitive-behavioral therapy\n",
      "B. In-patient psychiatric therapy\n",
      "C. Antidepressants\n",
      "D. Appetite stimulants\n",
      "\n",
      "INTERVENTION The patient's perception of her body weight: claims she is ‘a fatty’ -> UNKNOWN\n",
      "COUNTERFACTUAL\n",
      "A 19-year-old woman is brought into the emergency department after collapsing during a cheerleading practice session. Her vitals taken by the emergency medical services (EMS) include blood pressure 88/55 mm Hg, pulse 55/min. She was given a liter of isotonic fluid while en route to the hospital. At the emergency department, she is alert and oriented and is noted to be anorexic. The patient fervently denies being underweight and goes on to refuse any further intravenous fluid and later, even the hospital meals.\n",
      "Which of the following is the best option for long-term management of this patient’s condition?\n",
      "A. Cognitive-behavioral therapy\n",
      "B. In-patient psychiatric therapy\n",
      "C. Antidepressants\n",
      "D. Appetite stimulants\n",
      "\n"
     ]
    }
   ],
   "source": [
    "concept_file = os.path.join(OUTPUT_DIR, \"counterfactual-generation\", \"example_521\", \"concepts.json\")\n",
    "values_file = os.path.join(OUTPUT_DIR, \"counterfactual-generation\", \"example_521\", \"concept_settings.json\")\n",
    "with open(concept_file, \"r\") as f:\n",
    "    concepts = json.load(f)\n",
    "with open(values_file, \"r\") as f:\n",
    "    values = json.load(f)\n",
    "\n",
    "for intervention_file in glob.glob(os.path.join(OUTPUT_DIR, \"counterfactual-generation\", \"example_521\", \"counterfactual_*.json\")):\n",
    "    with open(intervention_file, \"r\") as f:\n",
    "        intervention = json.load(f)\n",
    "    if '-' not in intervention[\"intervention_str\"]:\n",
    "        continue\n",
    "    intervention_idx = intervention[\"intervention_str\"].index('-')\n",
    "    concept = concepts[intervention_idx]\n",
    "    val = values[intervention_idx]\n",
    "    current_value = val['current_setting']\n",
    "    intervention_str = f\"{concept}: {current_value} -> UNKNOWN\"\n",
    "    print(\"INTERVENTION\", intervention_str)\n",
    "    print(\"COUNTERFACTUAL\")\n",
    "    print(intervention[\"parsed_counterfactual\"][\"edited_context\"])\n",
    "    print(intervention[\"parsed_counterfactual\"][\"edited_question\"])\n",
    "    print(\"A. \" + intervention[\"parsed_counterfactual\"][\"edited_ans0\"])\n",
    "    print(\"B. \" + intervention[\"parsed_counterfactual\"][\"edited_ans1\"])\n",
    "    print(\"C. \" + intervention[\"parsed_counterfactual\"][\"edited_ans2\"])\n",
    "    print(\"D. \" + intervention[\"parsed_counterfactual\"][\"edited_ans3\"])\n",
    "    print()"
   ]
  },
  {
   "cell_type": "code",
   "execution_count": null,
   "metadata": {},
   "outputs": [],
   "source": []
  }
 ],
 "metadata": {
  "kernelspec": {
   "display_name": "wtt",
   "language": "python",
   "name": "python3"
  },
  "language_info": {
   "codemirror_mode": {
    "name": "ipython",
    "version": 3
   },
   "file_extension": ".py",
   "mimetype": "text/x-python",
   "name": "python",
   "nbconvert_exporter": "python",
   "pygments_lexer": "ipython3",
   "version": "3.11.4"
  }
 },
 "nbformat": 4,
 "nbformat_minor": 2
}
